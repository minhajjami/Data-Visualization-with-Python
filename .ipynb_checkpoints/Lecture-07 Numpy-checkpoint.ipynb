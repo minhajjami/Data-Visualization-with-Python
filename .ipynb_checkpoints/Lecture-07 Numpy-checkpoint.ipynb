{
 "cells": [
  {
   "cell_type": "code",
   "execution_count": 1,
   "id": "94b1ae22",
   "metadata": {},
   "outputs": [],
   "source": [
    "import numpy as np"
   ]
  },
  {
   "cell_type": "code",
   "execution_count": 3,
   "id": "bef1018c",
   "metadata": {},
   "outputs": [
    {
     "name": "stdout",
     "output_type": "stream",
     "text": [
      "[1, 2, 3, 4, 5, 6, 7, 8, 9, 1, -2, 3, -4, 5, -6, 7, -8, 9]\n"
     ]
    }
   ],
   "source": [
    "list_1=[1,2,3,4,5,6,7,8,9]\n",
    "list_2=[1,-2,3,-4,5,-6,7,-8,9]\n",
    "list_add=list_1+list_2\n",
    "print(list_add)"
   ]
  },
  {
   "cell_type": "code",
   "execution_count": 20,
   "id": "21d29a6f",
   "metadata": {},
   "outputs": [
    {
     "name": "stdout",
     "output_type": "stream",
     "text": [
      "addition of two array =  [ 2  0  6  0 10  0 14  0 18]\n",
      "subtraction of two array = [  0  -4   0  -8   0 -12   0 -16   0]\n",
      "multiply of two array =  [  1  -4   9 -16  25 -36  49 -64  81]\n",
      "division of two array = [ 1. -1.  1. -1.  1. -1.  1. -1.  1.]\n",
      "remainder after dividing two arrays =  [0 0 0 0 0 0 0 0 0]\n"
     ]
    },
    {
     "data": {
      "text/plain": [
       "numpy.ndarray"
      ]
     },
     "execution_count": 20,
     "metadata": {},
     "output_type": "execute_result"
    }
   ],
   "source": [
    "arr_1=np.array([1,2,3,4,5,6,7,8,9])\n",
    "arr_2=np.array([1,-2,3,-4,5,-6,7,-8,9])\n",
    "type(arr_1)\n",
    "\n",
    "type(arr_2)\n",
    "\n",
    "# arr_add= arr_1+arr_2\n",
    "# print(arr_add)\n",
    "# type(arr_add)\n",
    "\n",
    "arr_add=np.add(arr_1,arr_2)\n",
    "print(\"addition of two array = \",arr_add)\n",
    "\n",
    "arr_sub=np.subtract(arr_2,arr_1)\n",
    "print(\"subtraction of two array =\",arr_sub)\n",
    "\n",
    "arr_mul= np.multiply(arr_1,arr_2)\n",
    "print(\"multiply of two array = \",arr_mul)\n",
    "\n",
    "arr_div=np.divide(arr_1,arr_2)\n",
    "print(\"division of two array =\",arr_div)\n",
    "\n",
    "arr_mod = np.mod(arr_1,arr_2)\n",
    "print(\"remainder after dividing two arrays = \",arr_mod)\n",
    "type(arr_add)"
   ]
  },
  {
   "cell_type": "code",
   "execution_count": 25,
   "id": "96effbf8",
   "metadata": {},
   "outputs": [
    {
     "name": "stdout",
     "output_type": "stream",
     "text": [
      "array_3 = \n",
      " [[1 2 3]\n",
      " [4 5 6]]\n",
      "<class 'numpy.ndarray'>\n",
      "(2, 3)\n",
      "2D array additon = \n",
      " [[ 2  4  6]\n",
      " [ 8 10 12]]\n",
      "2D array multiplication = \n",
      " [[ 1  4  9]\n",
      " [16 25 36]]\n"
     ]
    }
   ],
   "source": [
    "arr_3 = np.array([[1,2,3],\n",
    "                 [4,5,6]])\n",
    "\n",
    "arr_4 = np.array([[1,2,3],\n",
    "                  [4,5,6]])\n",
    "\n",
    "print(\"array_3 = \\n\",arr_3)\n",
    "print(type(arr_3))\n",
    "print(arr_4.shape)\n",
    "\n",
    "arr2d_add = arr_3+arr_4\n",
    "print(\"2D array additon = \\n\",arr2d_add)\n",
    "\n",
    "arr2d_mul = arr_3*arr_4\n",
    "print(\"2D array multiplication = \\n\",arr2d_mul)"
   ]
  },
  {
   "cell_type": "code",
   "execution_count": 34,
   "id": "629df91d",
   "metadata": {},
   "outputs": [
    {
     "name": "stdout",
     "output_type": "stream",
     "text": [
      "[ 2  4  8 16 32]\n",
      "[ 1  4  9 16 25]\n",
      "[1.05 2.   3.4  4.   5.75]\n",
      "[ 2. -2.  4. -4.  6.]\n",
      "[ 1. -2.  3. -4.  5.]\n",
      "[ 1. -2.  3. -4.  6.]\n"
     ]
    }
   ],
   "source": [
    "arr_5=np.array([2,2,2,2,2])\n",
    "arr_6=np.array([1,2,3,4,5])\n",
    "arr_7=np.array([1.05,-2,3.4,-4,5.75])\n",
    "\n",
    "arr_pow=np.power(arr_5,arr_6)\n",
    "print(arr_pow)\n",
    "\n",
    "arr_square = np.square(arr_6)\n",
    "print(arr_square)\n",
    "\n",
    "arr_abs=np.abs(arr_7)\n",
    "print(arr_abs)\n",
    "\n",
    "arr_ceil=np.ceil(arr_7)\n",
    "print(arr_ceil)\n",
    "\n",
    "arr_floor = np.floor(arr_7)\n",
    "print(arr_floor)\n",
    "\n",
    "arr_round = np.round(arr_7)\n",
    "print(arr_round)"
   ]
  },
  {
   "cell_type": "markdown",
   "id": "e13b4afd",
   "metadata": {},
   "source": [
    "## Array Sum"
   ]
  },
  {
   "cell_type": "code",
   "execution_count": 37,
   "id": "ddc36bdb",
   "metadata": {},
   "outputs": [
    {
     "name": "stdout",
     "output_type": "stream",
     "text": [
      "25\n",
      "[3 4 5 6 7]\n",
      "[10 15]\n"
     ]
    }
   ],
   "source": [
    "arr_sum = np.sum([arr_5,arr_6])\n",
    "print(arr_sum)\n",
    "\n",
    "col_sum = np.sum([arr_5,arr_6],axis=0)\n",
    "print(col_sum)\n",
    "\n",
    "row_sum=np.sum([arr_5,arr_6],axis=1)\n",
    "print(row_sum)"
   ]
  },
  {
   "cell_type": "markdown",
   "id": "cf8ac4e9",
   "metadata": {},
   "source": [
    "## Array Product"
   ]
  },
  {
   "cell_type": "code",
   "execution_count": 39,
   "id": "784ddda1",
   "metadata": {},
   "outputs": [
    {
     "name": "stdout",
     "output_type": "stream",
     "text": [
      "3840\n",
      "[ 2  4  6  8 10]\n",
      "[ 32 120]\n"
     ]
    }
   ],
   "source": [
    "arr_prod=np.prod([arr_5,arr_6])\n",
    "print(arr_prod)\n",
    "\n",
    "col_prod=np.prod([arr_5,arr_6],axis=0)\n",
    "print(col_prod)\n",
    "\n",
    "row_prod=np.prod([arr_5,arr_6],axis=1)\n",
    "print(row_prod)"
   ]
  },
  {
   "cell_type": "markdown",
   "id": "6318dfce",
   "metadata": {},
   "source": [
    "## Matrix Operation"
   ]
  },
  {
   "cell_type": "code",
   "execution_count": 44,
   "id": "3e5e0ff6",
   "metadata": {},
   "outputs": [
    {
     "name": "stdout",
     "output_type": "stream",
     "text": [
      "[[1 2 3]\n",
      " [4 5 6]\n",
      " [7 8 9]]\n",
      "[1 5 9]\n"
     ]
    }
   ],
   "source": [
    "arr_8=np.array([[1,0,0],\n",
    "              [0,1,0],\n",
    "              [0,0,1]])\n",
    "\n",
    "arr_9=np.array([[1,2,3],\n",
    "               [4,5,6],\n",
    "               [7,8,9]])\n",
    "\n",
    "#matrix multplication\n",
    "arr_matmul=np.matmul(arr_8,arr_9)\n",
    "print(arr_matmul)\n",
    "\n",
    "#diagonal elements\n",
    "arr_diag = np.diag(arr_9)\n",
    "print(arr_diag)"
   ]
  },
  {
   "cell_type": "markdown",
   "id": "67f181c3",
   "metadata": {},
   "source": [
    "## Creating New Matrix"
   ]
  },
  {
   "cell_type": "code",
   "execution_count": 50,
   "id": "e1210ede",
   "metadata": {},
   "outputs": [
    {
     "name": "stdout",
     "output_type": "stream",
     "text": [
      "[[1. 0. 0.]\n",
      " [0. 1. 0.]\n",
      " [0. 0. 1.]]\n",
      "[[1. 1. 1.]\n",
      " [1. 1. 1.]\n",
      " [1. 1. 1.]]\n"
     ]
    }
   ],
   "source": [
    "identity_matrix = np.eye(3)\n",
    "print(identity_matrix)\n",
    "\n",
    "identity_ones=np.ones((3,3))\n",
    "print(identity_ones)"
   ]
  },
  {
   "cell_type": "markdown",
   "id": "fca45b51",
   "metadata": {},
   "source": [
    "## Array Indexing and Slicing"
   ]
  },
  {
   "cell_type": "code",
   "execution_count": 60,
   "id": "070e6bd1",
   "metadata": {},
   "outputs": [
    {
     "name": "stdout",
     "output_type": "stream",
     "text": [
      "[[4 5 6]]\n"
     ]
    }
   ],
   "source": [
    "arr_3 = np.array([[1,2,3],\n",
    "                 [4,5,6]])\n",
    "\n",
    "arr_4 = np.array([[1,2,3],\n",
    "                  [4,5,6]])\n",
    "\n",
    "# print(arr_3[0])\n",
    "# print(arr_3[1])\n",
    "# print(arr_3[0][0])\n",
    "# print(arr_3[0,0])\n",
    "# print(arr_3[0,1])\n",
    "# print(arr_3[0,2])\n",
    "# print(arr_3[1,0])\n",
    "# print(arr_3[1,1])\n",
    "# print(arr_3[1,2])\n",
    "\n",
    "# print(arr_3[0,-1])\n",
    "# print(arr_3[0,-2])\n",
    "# print(arr_3[0,-3])\n",
    "\n",
    "# print(arr_3[:,0:1])\n",
    "print(arr_3[1:])"
   ]
  },
  {
   "cell_type": "markdown",
   "id": "2bd490fc",
   "metadata": {},
   "source": [
    "## Array Filtering"
   ]
  },
  {
   "cell_type": "code",
   "execution_count": 61,
   "id": "d5f76e38",
   "metadata": {},
   "outputs": [
    {
     "name": "stdout",
     "output_type": "stream",
     "text": [
      "index of value 4: (array([3, 5, 6], dtype=int64),)\n",
      "index of the even numbers in the array: (array([1, 3, 5, 6], dtype=int64),)\n",
      "index of the odd numbers in the array: (array([0, 2, 4], dtype=int64),)\n"
     ]
    }
   ],
   "source": [
    "arr=np.array([1,2,3,4,5,4,4])\n",
    "\n",
    "find_four=np.where(arr==4)\n",
    "find_even=np.where(arr%2==0)\n",
    "find_odd=np.where(arr%2==1)\n",
    "\n",
    "print(\"index of value 4:\",find_four)\n",
    "print(\"index of the even numbers in the array:\",find_even)\n",
    "print(\"index of the odd numbers in the array:\",find_odd)"
   ]
  },
  {
   "cell_type": "code",
   "execution_count": 63,
   "id": "4e3a7c83",
   "metadata": {},
   "outputs": [
    {
     "name": "stdout",
     "output_type": "stream",
     "text": [
      "[False False False  True  True  True  True]\n",
      "[4 5 4 4]\n"
     ]
    }
   ],
   "source": [
    "find=arr[arr>=4]\n",
    "print(arr>=4)\n",
    "print(find)"
   ]
  },
  {
   "cell_type": "code",
   "execution_count": null,
   "id": "1ba4ed62",
   "metadata": {},
   "outputs": [],
   "source": []
  }
 ],
 "metadata": {
  "kernelspec": {
   "display_name": "Python 3",
   "language": "python",
   "name": "python3"
  },
  "language_info": {
   "codemirror_mode": {
    "name": "ipython",
    "version": 3
   },
   "file_extension": ".py",
   "mimetype": "text/x-python",
   "name": "python",
   "nbconvert_exporter": "python",
   "pygments_lexer": "ipython3",
   "version": "3.8.8"
  }
 },
 "nbformat": 4,
 "nbformat_minor": 5
}
