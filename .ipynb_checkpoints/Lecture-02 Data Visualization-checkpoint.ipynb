{
 "cells": [
  {
   "cell_type": "markdown",
   "id": "2112a59e",
   "metadata": {},
   "source": [
    "# Import required libraries and packages"
   ]
  },
  {
   "cell_type": "code",
   "execution_count": 1,
   "id": "dd137495",
   "metadata": {},
   "outputs": [],
   "source": [
    "import numpy as np\n",
    "import pandas as pd\n",
    "import matplotlib.pyplot as plt\n",
    "import seaborn as sns"
   ]
  },
  {
   "cell_type": "markdown",
   "id": "643f8d24",
   "metadata": {},
   "source": [
    "# Read a csv files as pandas dataframe"
   ]
  },
  {
   "cell_type": "code",
   "execution_count": 2,
   "id": "b3b2a6ba",
   "metadata": {},
   "outputs": [
    {
     "data": {
      "text/html": [
       "<div>\n",
       "<style scoped>\n",
       "    .dataframe tbody tr th:only-of-type {\n",
       "        vertical-align: middle;\n",
       "    }\n",
       "\n",
       "    .dataframe tbody tr th {\n",
       "        vertical-align: top;\n",
       "    }\n",
       "\n",
       "    .dataframe thead th {\n",
       "        text-align: right;\n",
       "    }\n",
       "</style>\n",
       "<table border=\"1\" class=\"dataframe\">\n",
       "  <thead>\n",
       "    <tr style=\"text-align: right;\">\n",
       "      <th></th>\n",
       "      <th>model</th>\n",
       "      <th>year</th>\n",
       "      <th>price</th>\n",
       "      <th>transmission</th>\n",
       "      <th>mileage</th>\n",
       "      <th>fuelType</th>\n",
       "      <th>mpg</th>\n",
       "      <th>engineSize</th>\n",
       "    </tr>\n",
       "  </thead>\n",
       "  <tbody>\n",
       "    <tr>\n",
       "      <th>0</th>\n",
       "      <td>5 Series</td>\n",
       "      <td>2014</td>\n",
       "      <td>11200</td>\n",
       "      <td>Automatic</td>\n",
       "      <td>67068</td>\n",
       "      <td>Diesel</td>\n",
       "      <td>57.6</td>\n",
       "      <td>2.0</td>\n",
       "    </tr>\n",
       "    <tr>\n",
       "      <th>1</th>\n",
       "      <td>6 Series</td>\n",
       "      <td>2018</td>\n",
       "      <td>27000</td>\n",
       "      <td>Automatic</td>\n",
       "      <td>14827</td>\n",
       "      <td>Petrol</td>\n",
       "      <td>42.8</td>\n",
       "      <td>2.0</td>\n",
       "    </tr>\n",
       "    <tr>\n",
       "      <th>2</th>\n",
       "      <td>5 Series</td>\n",
       "      <td>2016</td>\n",
       "      <td>16000</td>\n",
       "      <td>Automatic</td>\n",
       "      <td>62794</td>\n",
       "      <td>Diesel</td>\n",
       "      <td>51.4</td>\n",
       "      <td>3.0</td>\n",
       "    </tr>\n",
       "    <tr>\n",
       "      <th>3</th>\n",
       "      <td>1 Series</td>\n",
       "      <td>2017</td>\n",
       "      <td>12750</td>\n",
       "      <td>Automatic</td>\n",
       "      <td>26676</td>\n",
       "      <td>Diesel</td>\n",
       "      <td>72.4</td>\n",
       "      <td>1.5</td>\n",
       "    </tr>\n",
       "    <tr>\n",
       "      <th>4</th>\n",
       "      <td>7 Series</td>\n",
       "      <td>2014</td>\n",
       "      <td>14500</td>\n",
       "      <td>Automatic</td>\n",
       "      <td>39554</td>\n",
       "      <td>Diesel</td>\n",
       "      <td>50.4</td>\n",
       "      <td>3.0</td>\n",
       "    </tr>\n",
       "    <tr>\n",
       "      <th>...</th>\n",
       "      <td>...</td>\n",
       "      <td>...</td>\n",
       "      <td>...</td>\n",
       "      <td>...</td>\n",
       "      <td>...</td>\n",
       "      <td>...</td>\n",
       "      <td>...</td>\n",
       "      <td>...</td>\n",
       "    </tr>\n",
       "    <tr>\n",
       "      <th>10776</th>\n",
       "      <td>X3</td>\n",
       "      <td>2016</td>\n",
       "      <td>19000</td>\n",
       "      <td>Automatic</td>\n",
       "      <td>40818</td>\n",
       "      <td>Diesel</td>\n",
       "      <td>54.3</td>\n",
       "      <td>2.0</td>\n",
       "    </tr>\n",
       "    <tr>\n",
       "      <th>10777</th>\n",
       "      <td>5 Series</td>\n",
       "      <td>2016</td>\n",
       "      <td>14600</td>\n",
       "      <td>Automatic</td>\n",
       "      <td>42947</td>\n",
       "      <td>Diesel</td>\n",
       "      <td>60.1</td>\n",
       "      <td>2.0</td>\n",
       "    </tr>\n",
       "    <tr>\n",
       "      <th>10778</th>\n",
       "      <td>3 Series</td>\n",
       "      <td>2017</td>\n",
       "      <td>13100</td>\n",
       "      <td>Manual</td>\n",
       "      <td>25468</td>\n",
       "      <td>Petrol</td>\n",
       "      <td>42.8</td>\n",
       "      <td>2.0</td>\n",
       "    </tr>\n",
       "    <tr>\n",
       "      <th>10779</th>\n",
       "      <td>1 Series</td>\n",
       "      <td>2014</td>\n",
       "      <td>9930</td>\n",
       "      <td>Automatic</td>\n",
       "      <td>45000</td>\n",
       "      <td>Diesel</td>\n",
       "      <td>64.2</td>\n",
       "      <td>2.0</td>\n",
       "    </tr>\n",
       "    <tr>\n",
       "      <th>10780</th>\n",
       "      <td>X1</td>\n",
       "      <td>2017</td>\n",
       "      <td>15981</td>\n",
       "      <td>Automatic</td>\n",
       "      <td>59432</td>\n",
       "      <td>Diesel</td>\n",
       "      <td>57.6</td>\n",
       "      <td>2.0</td>\n",
       "    </tr>\n",
       "  </tbody>\n",
       "</table>\n",
       "<p>10781 rows × 8 columns</p>\n",
       "</div>"
      ],
      "text/plain": [
       "           model  year  price transmission  mileage fuelType   mpg  engineSize\n",
       "0       5 Series  2014  11200    Automatic    67068   Diesel  57.6         2.0\n",
       "1       6 Series  2018  27000    Automatic    14827   Petrol  42.8         2.0\n",
       "2       5 Series  2016  16000    Automatic    62794   Diesel  51.4         3.0\n",
       "3       1 Series  2017  12750    Automatic    26676   Diesel  72.4         1.5\n",
       "4       7 Series  2014  14500    Automatic    39554   Diesel  50.4         3.0\n",
       "...          ...   ...    ...          ...      ...      ...   ...         ...\n",
       "10776         X3  2016  19000    Automatic    40818   Diesel  54.3         2.0\n",
       "10777   5 Series  2016  14600    Automatic    42947   Diesel  60.1         2.0\n",
       "10778   3 Series  2017  13100       Manual    25468   Petrol  42.8         2.0\n",
       "10779   1 Series  2014   9930    Automatic    45000   Diesel  64.2         2.0\n",
       "10780         X1  2017  15981    Automatic    59432   Diesel  57.6         2.0\n",
       "\n",
       "[10781 rows x 8 columns]"
      ]
     },
     "metadata": {},
     "output_type": "display_data"
    }
   ],
   "source": [
    "df= pd.read_csv(\"bmw.csv\")\n",
    "\n",
    "display(df)"
   ]
  },
  {
   "cell_type": "markdown",
   "id": "905cd336",
   "metadata": {},
   "source": [
    "## Check for Missing Values"
   ]
  },
  {
   "cell_type": "code",
   "execution_count": 3,
   "id": "494566fb",
   "metadata": {},
   "outputs": [
    {
     "name": "stdout",
     "output_type": "stream",
     "text": [
      "<class 'pandas.core.frame.DataFrame'>\n",
      "RangeIndex: 10781 entries, 0 to 10780\n",
      "Data columns (total 8 columns):\n",
      " #   Column        Non-Null Count  Dtype  \n",
      "---  ------        --------------  -----  \n",
      " 0   model         10781 non-null  object \n",
      " 1   year          10781 non-null  int64  \n",
      " 2   price         10781 non-null  int64  \n",
      " 3   transmission  10781 non-null  object \n",
      " 4   mileage       10781 non-null  int64  \n",
      " 5   fuelType      10781 non-null  object \n",
      " 6   mpg           10781 non-null  float64\n",
      " 7   engineSize    10781 non-null  float64\n",
      "dtypes: float64(2), int64(3), object(3)\n",
      "memory usage: 673.9+ KB\n"
     ]
    },
    {
     "data": {
      "text/plain": [
       "None"
      ]
     },
     "metadata": {},
     "output_type": "display_data"
    }
   ],
   "source": [
    "display(df.info())"
   ]
  },
  {
   "cell_type": "markdown",
   "id": "65514e57",
   "metadata": {},
   "source": [
    "## Count the number of unique values present in the 'Year' Column"
   ]
  },
  {
   "cell_type": "code",
   "execution_count": 4,
   "id": "3f07f482",
   "metadata": {},
   "outputs": [
    {
     "data": {
      "text/plain": [
       "2019    3485\n",
       "2016    1882\n",
       "2017    1721\n",
       "2015     922\n",
       "2018     848\n",
       "2020     733\n",
       "2014     501\n",
       "2013     357\n",
       "2012     119\n",
       "2011      51\n",
       "2010      41\n",
       "2009      30\n",
       "2008      23\n",
       "2007      16\n",
       "2006      14\n",
       "2004      12\n",
       "2002       6\n",
       "2005       6\n",
       "1999       4\n",
       "2001       3\n",
       "2000       2\n",
       "2003       2\n",
       "1998       1\n",
       "1997       1\n",
       "1996       1\n",
       "Name: year, dtype: int64"
      ]
     },
     "metadata": {},
     "output_type": "display_data"
    }
   ],
   "source": [
    "year_count=df['year'].value_counts()\n",
    "display(year_count)"
   ]
  },
  {
   "cell_type": "markdown",
   "id": "61588305",
   "metadata": {},
   "source": [
    "## Count the number of unique Values Present in the 'Model'columns"
   ]
  },
  {
   "cell_type": "markdown",
   "id": "c4921f65",
   "metadata": {},
   "source": [
    "model_count= df['model'].value_counts()\n",
    "display(model_count)"
   ]
  },
  {
   "cell_type": "markdown",
   "id": "4465d005",
   "metadata": {},
   "source": [
    "## Count the number of unique Values Present in the 'Transmission'columns"
   ]
  },
  {
   "cell_type": "code",
   "execution_count": 7,
   "id": "a5029745",
   "metadata": {},
   "outputs": [
    {
     "data": {
      "text/plain": [
       "Semi-Auto    4666\n",
       "Automatic    3588\n",
       "Manual       2527\n",
       "Name: transmission, dtype: int64"
      ]
     },
     "metadata": {},
     "output_type": "display_data"
    }
   ],
   "source": [
    "transmission_count= df['transmission'].value_counts()\n",
    "display(transmission_count)"
   ]
  },
  {
   "cell_type": "markdown",
   "id": "5063c513",
   "metadata": {},
   "source": [
    "## Count the number of unique Values Present in the 'fuelType'columns"
   ]
  },
  {
   "cell_type": "code",
   "execution_count": 9,
   "id": "be9a670c",
   "metadata": {},
   "outputs": [
    {
     "data": {
      "text/plain": [
       "Diesel      7027\n",
       "Petrol      3417\n",
       "Hybrid       298\n",
       "Other         36\n",
       "Electric       3\n",
       "Name: fuelType, dtype: int64"
      ]
     },
     "metadata": {},
     "output_type": "display_data"
    }
   ],
   "source": [
    "fuelType_count=df['fuelType'].value_counts()\n",
    "display(fuelType_count)"
   ]
  },
  {
   "cell_type": "markdown",
   "id": "a199ad3e",
   "metadata": {},
   "source": [
    "## Find the % of unique values present in the 'fuelType' column"
   ]
  },
  {
   "cell_type": "code",
   "execution_count": 23,
   "id": "0f34bfcc",
   "metadata": {},
   "outputs": [
    {
     "data": {
      "text/html": [
       "<div>\n",
       "<style scoped>\n",
       "    .dataframe tbody tr th:only-of-type {\n",
       "        vertical-align: middle;\n",
       "    }\n",
       "\n",
       "    .dataframe tbody tr th {\n",
       "        vertical-align: top;\n",
       "    }\n",
       "\n",
       "    .dataframe thead th {\n",
       "        text-align: right;\n",
       "    }\n",
       "</style>\n",
       "<table border=\"1\" class=\"dataframe\">\n",
       "  <thead>\n",
       "    <tr style=\"text-align: right;\">\n",
       "      <th></th>\n",
       "      <th>fuelType</th>\n",
       "      <th>No_of_Cars</th>\n",
       "    </tr>\n",
       "  </thead>\n",
       "  <tbody>\n",
       "    <tr>\n",
       "      <th>0</th>\n",
       "      <td>Diesel</td>\n",
       "      <td>7027</td>\n",
       "    </tr>\n",
       "    <tr>\n",
       "      <th>1</th>\n",
       "      <td>Petrol</td>\n",
       "      <td>3417</td>\n",
       "    </tr>\n",
       "    <tr>\n",
       "      <th>2</th>\n",
       "      <td>Hybrid</td>\n",
       "      <td>298</td>\n",
       "    </tr>\n",
       "    <tr>\n",
       "      <th>3</th>\n",
       "      <td>Other</td>\n",
       "      <td>36</td>\n",
       "    </tr>\n",
       "    <tr>\n",
       "      <th>4</th>\n",
       "      <td>Electric</td>\n",
       "      <td>3</td>\n",
       "    </tr>\n",
       "  </tbody>\n",
       "</table>\n",
       "</div>"
      ],
      "text/plain": [
       "   fuelType  No_of_Cars\n",
       "0    Diesel        7027\n",
       "1    Petrol        3417\n",
       "2    Hybrid         298\n",
       "3     Other          36\n",
       "4  Electric           3"
      ]
     },
     "metadata": {},
     "output_type": "display_data"
    },
    {
     "data": {
      "text/html": [
       "<div>\n",
       "<style scoped>\n",
       "    .dataframe tbody tr th:only-of-type {\n",
       "        vertical-align: middle;\n",
       "    }\n",
       "\n",
       "    .dataframe tbody tr th {\n",
       "        vertical-align: top;\n",
       "    }\n",
       "\n",
       "    .dataframe thead th {\n",
       "        text-align: right;\n",
       "    }\n",
       "</style>\n",
       "<table border=\"1\" class=\"dataframe\">\n",
       "  <thead>\n",
       "    <tr style=\"text-align: right;\">\n",
       "      <th></th>\n",
       "      <th>fuelType</th>\n",
       "      <th>No_of_Cars</th>\n",
       "      <th>% of Cars</th>\n",
       "    </tr>\n",
       "  </thead>\n",
       "  <tbody>\n",
       "    <tr>\n",
       "      <th>0</th>\n",
       "      <td>Diesel</td>\n",
       "      <td>7027</td>\n",
       "      <td>65.18</td>\n",
       "    </tr>\n",
       "    <tr>\n",
       "      <th>1</th>\n",
       "      <td>Petrol</td>\n",
       "      <td>3417</td>\n",
       "      <td>31.69</td>\n",
       "    </tr>\n",
       "    <tr>\n",
       "      <th>2</th>\n",
       "      <td>Hybrid</td>\n",
       "      <td>298</td>\n",
       "      <td>2.76</td>\n",
       "    </tr>\n",
       "    <tr>\n",
       "      <th>3</th>\n",
       "      <td>Other</td>\n",
       "      <td>36</td>\n",
       "      <td>0.33</td>\n",
       "    </tr>\n",
       "    <tr>\n",
       "      <th>4</th>\n",
       "      <td>Electric</td>\n",
       "      <td>3</td>\n",
       "      <td>0.03</td>\n",
       "    </tr>\n",
       "  </tbody>\n",
       "</table>\n",
       "</div>"
      ],
      "text/plain": [
       "   fuelType  No_of_Cars  % of Cars\n",
       "0    Diesel        7027      65.18\n",
       "1    Petrol        3417      31.69\n",
       "2    Hybrid         298       2.76\n",
       "3     Other          36       0.33\n",
       "4  Electric           3       0.03"
      ]
     },
     "metadata": {},
     "output_type": "display_data"
    }
   ],
   "source": [
    "fuelType_count= df['fuelType'].value_counts()\n",
    "# print(type(fuelType_count))\n",
    "\n",
    "fuelType_count=pd.DataFrame(fuelType_count)\n",
    "# display(fuelType_count)\n",
    "\n",
    "fuelType_count=fuelType_count.reset_index()\n",
    "# display(model_count)\n",
    "\n",
    "fuelType_count=fuelType_count.rename(columns={'index':'fuelType','fuelType':'No_of_Cars'})\n",
    "display(fuelType_count)\n",
    "\n",
    "# print(fuelType_count.sum())\n",
    "\n",
    "fuelType_count['% of Cars'] = np.round(((fuelType_count['No_of_Cars']/fuelType_count['No_of_Cars'].sum())*100),2)\n",
    "display(fuelType_count)\n"
   ]
  },
  {
   "cell_type": "markdown",
   "id": "0891bbee",
   "metadata": {},
   "source": [
    "## Create A BarPlot for 'FuelType' Column"
   ]
  },
  {
   "cell_type": "code",
   "execution_count": 30,
   "id": "96d8124b",
   "metadata": {},
   "outputs": [
    {
     "data": {
      "image/png": "[encoded data removed]",
      "text/plain": [
       "<Figure size 432x288 with 1 Axes>"
      ]
     },
     "metadata": {
      "needs_background": "light"
     },
     "output_type": "display_data"
    }
   ],
   "source": [
    "sns.barplot(x='fuelType',y='No_of_Cars',data=fuelType_count,color='b',alpha=0.75)\n",
    "plt.title('Number of cars present for each fuel type')\n",
    "plt.xlabel('Type of fuel')\n",
    "plt.ylabel('Number of cars')\n",
    "# plt.grid()\n",
    "plt.show()"
   ]
  },
  {
   "cell_type": "markdown",
   "id": "2410274a",
   "metadata": {},
   "source": [
    "## Find the % of unique values present in the 'Transmisson' column"
   ]
  },
  {
   "cell_type": "code",
   "execution_count": 45,
   "id": "a516e3e2",
   "metadata": {},
   "outputs": [
    {
     "data": {
      "text/html": [
       "<div>\n",
       "<style scoped>\n",
       "    .dataframe tbody tr th:only-of-type {\n",
       "        vertical-align: middle;\n",
       "    }\n",
       "\n",
       "    .dataframe tbody tr th {\n",
       "        vertical-align: top;\n",
       "    }\n",
       "\n",
       "    .dataframe thead th {\n",
       "        text-align: right;\n",
       "    }\n",
       "</style>\n",
       "<table border=\"1\" class=\"dataframe\">\n",
       "  <thead>\n",
       "    <tr style=\"text-align: right;\">\n",
       "      <th></th>\n",
       "      <th>transmission</th>\n",
       "      <th>no_of_cars</th>\n",
       "      <th>% of cars</th>\n",
       "    </tr>\n",
       "  </thead>\n",
       "  <tbody>\n",
       "    <tr>\n",
       "      <th>0</th>\n",
       "      <td>Semi-Auto</td>\n",
       "      <td>4666</td>\n",
       "      <td>43.28</td>\n",
       "    </tr>\n",
       "    <tr>\n",
       "      <th>1</th>\n",
       "      <td>Automatic</td>\n",
       "      <td>3588</td>\n",
       "      <td>33.28</td>\n",
       "    </tr>\n",
       "    <tr>\n",
       "      <th>2</th>\n",
       "      <td>Manual</td>\n",
       "      <td>2527</td>\n",
       "      <td>23.44</td>\n",
       "    </tr>\n",
       "  </tbody>\n",
       "</table>\n",
       "</div>"
      ],
      "text/plain": [
       "  transmission  no_of_cars  % of cars\n",
       "0    Semi-Auto        4666      43.28\n",
       "1    Automatic        3588      33.28\n",
       "2       Manual        2527      23.44"
      ]
     },
     "metadata": {},
     "output_type": "display_data"
    }
   ],
   "source": [
    "transmission_count= df['transmission'].value_counts()\n",
    "# display(transmisson_count)\n",
    "transmission_count=pd.DataFrame(transmission_count)\n",
    "# display(transmission_count)\n",
    "transmission_count= transmission_count.reset_index()\n",
    "# display(transmission_count)\n",
    "transmission_count=transmission_count.rename(columns={\"index\":'transmission','transmission':'no_of_cars'})\n",
    "# display(transmission_count)\n",
    "transmission_count['% of cars']= np.round((transmission_count['no_of_cars']/transmission_count['no_of_cars'].sum())*100,2)\n",
    "display(transmission_count)"
   ]
  },
  {
   "cell_type": "markdown",
   "id": "dc1d30fc",
   "metadata": {},
   "source": [
    "## Create A BarPlot for 'Transmission' Column"
   ]
  },
  {
   "cell_type": "code",
   "execution_count": 50,
   "id": "4a160308",
   "metadata": {},
   "outputs": [
    {
     "data": {
      "image/png": "[encoded data removed]",
      "text/plain": [
       "<Figure size 432x288 with 1 Axes>"
      ]
     },
     "metadata": {
      "needs_background": "light"
     },
     "output_type": "display_data"
    }
   ],
   "source": [
    "sns.barplot(x='transmission',y='no_of_cars',data=transmission_count,color='g',alpha=0.75)\n",
    "plt.title('Number of cars present for each transmission')\n",
    "plt.xlabel('Type of transmission')\n",
    "plt.ylabel('Number of cars')\n",
    "plt.show()"
   ]
  },
  {
   "cell_type": "markdown",
   "id": "44273bba",
   "metadata": {},
   "source": [
    "## Find the % of unique values present in the 'Model' column "
   ]
  },
  {
   "cell_type": "code",
   "execution_count": 51,
   "id": "c1712a6e",
   "metadata": {},
   "outputs": [
    {
     "data": {
      "text/html": [
       "<div>\n",
       "<style scoped>\n",
       "    .dataframe tbody tr th:only-of-type {\n",
       "        vertical-align: middle;\n",
       "    }\n",
       "\n",
       "    .dataframe tbody tr th {\n",
       "        vertical-align: top;\n",
       "    }\n",
       "\n",
       "    .dataframe thead th {\n",
       "        text-align: right;\n",
       "    }\n",
       "</style>\n",
       "<table border=\"1\" class=\"dataframe\">\n",
       "  <thead>\n",
       "    <tr style=\"text-align: right;\">\n",
       "      <th></th>\n",
       "      <th>model</th>\n",
       "      <th>no_of_cars</th>\n",
       "      <th>% of cars</th>\n",
       "    </tr>\n",
       "  </thead>\n",
       "  <tbody>\n",
       "    <tr>\n",
       "      <th>0</th>\n",
       "      <td>3 Series</td>\n",
       "      <td>2443</td>\n",
       "      <td>22.66</td>\n",
       "    </tr>\n",
       "    <tr>\n",
       "      <th>1</th>\n",
       "      <td>1 Series</td>\n",
       "      <td>1969</td>\n",
       "      <td>18.26</td>\n",
       "    </tr>\n",
       "    <tr>\n",
       "      <th>2</th>\n",
       "      <td>2 Series</td>\n",
       "      <td>1229</td>\n",
       "      <td>11.40</td>\n",
       "    </tr>\n",
       "    <tr>\n",
       "      <th>3</th>\n",
       "      <td>5 Series</td>\n",
       "      <td>1056</td>\n",
       "      <td>9.80</td>\n",
       "    </tr>\n",
       "    <tr>\n",
       "      <th>4</th>\n",
       "      <td>4 Series</td>\n",
       "      <td>995</td>\n",
       "      <td>9.23</td>\n",
       "    </tr>\n",
       "    <tr>\n",
       "      <th>5</th>\n",
       "      <td>X1</td>\n",
       "      <td>804</td>\n",
       "      <td>7.46</td>\n",
       "    </tr>\n",
       "    <tr>\n",
       "      <th>6</th>\n",
       "      <td>X3</td>\n",
       "      <td>551</td>\n",
       "      <td>5.11</td>\n",
       "    </tr>\n",
       "    <tr>\n",
       "      <th>7</th>\n",
       "      <td>X5</td>\n",
       "      <td>468</td>\n",
       "      <td>4.34</td>\n",
       "    </tr>\n",
       "    <tr>\n",
       "      <th>8</th>\n",
       "      <td>X2</td>\n",
       "      <td>288</td>\n",
       "      <td>2.67</td>\n",
       "    </tr>\n",
       "    <tr>\n",
       "      <th>9</th>\n",
       "      <td>X4</td>\n",
       "      <td>179</td>\n",
       "      <td>1.66</td>\n",
       "    </tr>\n",
       "    <tr>\n",
       "      <th>10</th>\n",
       "      <td>M4</td>\n",
       "      <td>125</td>\n",
       "      <td>1.16</td>\n",
       "    </tr>\n",
       "    <tr>\n",
       "      <th>11</th>\n",
       "      <td>Z4</td>\n",
       "      <td>108</td>\n",
       "      <td>1.00</td>\n",
       "    </tr>\n",
       "    <tr>\n",
       "      <th>12</th>\n",
       "      <td>6 Series</td>\n",
       "      <td>108</td>\n",
       "      <td>1.00</td>\n",
       "    </tr>\n",
       "    <tr>\n",
       "      <th>13</th>\n",
       "      <td>7 Series</td>\n",
       "      <td>106</td>\n",
       "      <td>0.98</td>\n",
       "    </tr>\n",
       "    <tr>\n",
       "      <th>14</th>\n",
       "      <td>X6</td>\n",
       "      <td>106</td>\n",
       "      <td>0.98</td>\n",
       "    </tr>\n",
       "    <tr>\n",
       "      <th>15</th>\n",
       "      <td>X7</td>\n",
       "      <td>55</td>\n",
       "      <td>0.51</td>\n",
       "    </tr>\n",
       "    <tr>\n",
       "      <th>16</th>\n",
       "      <td>i3</td>\n",
       "      <td>43</td>\n",
       "      <td>0.40</td>\n",
       "    </tr>\n",
       "    <tr>\n",
       "      <th>17</th>\n",
       "      <td>8 Series</td>\n",
       "      <td>39</td>\n",
       "      <td>0.36</td>\n",
       "    </tr>\n",
       "    <tr>\n",
       "      <th>18</th>\n",
       "      <td>M5</td>\n",
       "      <td>29</td>\n",
       "      <td>0.27</td>\n",
       "    </tr>\n",
       "    <tr>\n",
       "      <th>19</th>\n",
       "      <td>M3</td>\n",
       "      <td>27</td>\n",
       "      <td>0.25</td>\n",
       "    </tr>\n",
       "    <tr>\n",
       "      <th>20</th>\n",
       "      <td>M2</td>\n",
       "      <td>21</td>\n",
       "      <td>0.19</td>\n",
       "    </tr>\n",
       "    <tr>\n",
       "      <th>21</th>\n",
       "      <td>i8</td>\n",
       "      <td>17</td>\n",
       "      <td>0.16</td>\n",
       "    </tr>\n",
       "    <tr>\n",
       "      <th>22</th>\n",
       "      <td>M6</td>\n",
       "      <td>8</td>\n",
       "      <td>0.07</td>\n",
       "    </tr>\n",
       "    <tr>\n",
       "      <th>23</th>\n",
       "      <td>Z3</td>\n",
       "      <td>7</td>\n",
       "      <td>0.06</td>\n",
       "    </tr>\n",
       "  </tbody>\n",
       "</table>\n",
       "</div>"
      ],
      "text/plain": [
       "        model  no_of_cars  % of cars\n",
       "0    3 Series        2443      22.66\n",
       "1    1 Series        1969      18.26\n",
       "2    2 Series        1229      11.40\n",
       "3    5 Series        1056       9.80\n",
       "4    4 Series         995       9.23\n",
       "5          X1         804       7.46\n",
       "6          X3         551       5.11\n",
       "7          X5         468       4.34\n",
       "8          X2         288       2.67\n",
       "9          X4         179       1.66\n",
       "10         M4         125       1.16\n",
       "11         Z4         108       1.00\n",
       "12   6 Series         108       1.00\n",
       "13   7 Series         106       0.98\n",
       "14         X6         106       0.98\n",
       "15         X7          55       0.51\n",
       "16         i3          43       0.40\n",
       "17   8 Series          39       0.36\n",
       "18         M5          29       0.27\n",
       "19         M3          27       0.25\n",
       "20         M2          21       0.19\n",
       "21         i8          17       0.16\n",
       "22         M6           8       0.07\n",
       "23         Z3           7       0.06"
      ]
     },
     "metadata": {},
     "output_type": "display_data"
    }
   ],
   "source": [
    "model_count= df['model'].value_counts()\n",
    "# display(model_count)\n",
    "model_count=pd.DataFrame(model_count)\n",
    "# display(model_count)\n",
    "model_count= model_count.reset_index()\n",
    "# display(model_count)\n",
    "model_count=model_count.rename(columns={\"index\":'model','model':'no_of_cars'})\n",
    "# display(model_count)\n",
    "model_count['% of cars']= np.round((model_count['no_of_cars']/model_count['no_of_cars'].sum())*100,2)\n",
    "display(model_count)"
   ]
  },
  {
   "cell_type": "markdown",
   "id": "4d6c4907",
   "metadata": {},
   "source": [
    "## Create A BarPlot for 'Model' Column"
   ]
  },
  {
   "cell_type": "code",
   "execution_count": 53,
   "id": "44ee3b2b",
   "metadata": {},
   "outputs": [
    {
     "data": {
      "image/png": "[encoded data removed]",
      "text/plain": [
       "<Figure size 432x288 with 1 Axes>"
      ]
     },
     "metadata": {
      "needs_background": "light"
     },
     "output_type": "display_data"
    }
   ],
   "source": [
    "sns.barplot(x='model',y='no_of_cars',data=model_count,color='r',alpha=0.75)\n",
    "plt.title('Number of cars present for each model')\n",
    "plt.xlabel('Type of model')\n",
    "plt.ylabel('Number of cars')\n",
    "plt.xticks(rotation=90)\n",
    "plt.show()"
   ]
  },
  {
   "cell_type": "markdown",
   "id": "cd7c05d2",
   "metadata": {},
   "source": [
    "## Can you plot above barplots by side by side"
   ]
  },
  {
   "cell_type": "code",
   "execution_count": 68,
   "id": "4d3b0c68",
   "metadata": {
    "scrolled": true
   },
   "outputs": [
    {
     "data": {
      "image/png": "[encoded data removed]",
      "text/plain": [
       "<Figure size 1080x360 with 3 Axes>"
      ]
     },
     "metadata": {
      "needs_background": "light"
     },
     "output_type": "display_data"
    }
   ],
   "source": [
    "sns.set_context('paper')\n",
    "plt.figure(figsize=(15,5))\n",
    "\n",
    "plt.subplot(1,3,1)\n",
    "\n",
    "sns.barplot(x='model',y='% of cars',data=model_count,color='b',alpha=0.75)\n",
    "plt.title('Number of cars present for each model')\n",
    "plt.xlabel('Type of model')\n",
    "plt.ylabel('Number of cars')\n",
    "plt.xticks(rotation=90)\n",
    "plt.yticks(np.arange(0,101,10).tolist())\n",
    "\n",
    "plt.subplot(1,3,2)\n",
    "\n",
    "sns.barplot(x='transmission',y='% of cars',data=transmission_count,color='g',alpha=0.75)\n",
    "plt.title('Number of cars present for each transmission')\n",
    "plt.xlabel('Type of transmission')\n",
    "plt.ylabel('Number of cars')\n",
    "plt.xticks(rotation=90)\n",
    "plt.yticks(np.arange(0,101,10).tolist())\n",
    "\n",
    "plt.subplot(1,3,3)\n",
    "\n",
    "sns.barplot(x='fuelType',y='% of Cars',data=fuelType_count,color='r',alpha=0.75)\n",
    "plt.title('Number of cars present for each fuelType')\n",
    "plt.xlabel('Type of fuelType')\n",
    "plt.ylabel('Number of cars')\n",
    "plt.xticks(rotation=90)\n",
    "plt.yticks(np.arange(0,101,10).tolist())\n",
    "plt.suptitle('Categorical variables in the BMW used cars dataset')\n",
    "plt.tight_layout()\n",
    "plt.show()\n"
   ]
  },
  {
   "cell_type": "code",
   "execution_count": null,
   "id": "afeb4d0c",
   "metadata": {},
   "outputs": [],
   "source": []
  }
 ],
 "metadata": {
  "kernelspec": {
   "display_name": "Python 3",
   "language": "python",
   "name": "python3"
  },
  "language_info": {
   "codemirror_mode": {
    "name": "ipython",
    "version": 3
   },
   "file_extension": ".py",
   "mimetype": "text/x-python",
   "name": "python",
   "nbconvert_exporter": "python",
   "pygments_lexer": "ipython3",
   "version": "3.8.8"
  }
 },
 "nbformat": 4,
 "nbformat_minor": 5
}
